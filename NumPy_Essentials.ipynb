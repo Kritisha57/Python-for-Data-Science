{
  "nbformat": 4,
  "nbformat_minor": 0,
  "metadata": {
    "colab": {
      "provenance": [],
      "authorship_tag": "ABX9TyOLlKO0K+owhbjdxtikrKiA",
      "include_colab_link": true
    },
    "kernelspec": {
      "name": "python3",
      "display_name": "Python 3"
    },
    "language_info": {
      "name": "python"
    }
  },
  "cells": [
    {
      "cell_type": "markdown",
      "metadata": {
        "id": "view-in-github",
        "colab_type": "text"
      },
      "source": [
        "<a href=\"https://colab.research.google.com/github/Kritisha57/Python-for-Data-Science/blob/main/NumPy_Essentials.ipynb\" target=\"_parent\"><img src=\"https://colab.research.google.com/assets/colab-badge.svg\" alt=\"Open In Colab\"/></a>"
      ]
    },
    {
      "cell_type": "code",
      "execution_count": null,
      "metadata": {
        "id": "xmf1ThyB4r4E"
      },
      "outputs": [],
      "source": [
        "#NumPy array and Python Lists\n",
        "heights=[78,65,82,77,74,70]\n",
        "#If we want to multipky each height by a number, say 3.25, it will throw an error.Let's see-\n"
      ]
    },
    {
      "cell_type": "code",
      "source": [
        "heights*3.25"
      ],
      "metadata": {
        "colab": {
          "base_uri": "https://localhost:8080/",
          "height": 175
        },
        "id": "l1TktxUq5Fk3",
        "outputId": "1ba7ea66-b720-4f28-a07a-c18b027e1033"
      },
      "execution_count": null,
      "outputs": [
        {
          "output_type": "error",
          "ename": "TypeError",
          "evalue": "ignored",
          "traceback": [
            "\u001b[0;31m---------------------------------------------------------------------------\u001b[0m",
            "\u001b[0;31mTypeError\u001b[0m                                 Traceback (most recent call last)",
            "\u001b[0;32m<ipython-input-6-bcfc1d74ba18>\u001b[0m in \u001b[0;36m<cell line: 1>\u001b[0;34m()\u001b[0m\n\u001b[0;32m----> 1\u001b[0;31m \u001b[0mheights\u001b[0m\u001b[0;34m*\u001b[0m\u001b[0;36m3.25\u001b[0m\u001b[0;34m\u001b[0m\u001b[0;34m\u001b[0m\u001b[0m\n\u001b[0m",
            "\u001b[0;31mTypeError\u001b[0m: can't multiply sequence by non-int of type 'float'"
          ]
        }
      ]
    },
    {
      "cell_type": "markdown",
      "source": [
        "We get this error because in Python we can't multiply a sequence with a non-int number. We need a 'for' loop which is an inefficient method for handling large data. It takes a lot of time to execute a for loop.\n"
      ],
      "metadata": {
        "id": "zCiQ7Wfs6PTY"
      }
    },
    {
      "cell_type": "code",
      "source": [
        "import numpy as np"
      ],
      "metadata": {
        "id": "jXSylDRe5FnU"
      },
      "execution_count": null,
      "outputs": []
    },
    {
      "cell_type": "code",
      "source": [
        "arr=np.array(heights)\n",
        "print(arr*2)"
      ],
      "metadata": {
        "colab": {
          "base_uri": "https://localhost:8080/"
        },
        "id": "DsOdCzwE5FqF",
        "outputId": "c32b7e43-0546-41e0-83ed-e97cfdfd1eb6"
      },
      "execution_count": null,
      "outputs": [
        {
          "output_type": "stream",
          "name": "stdout",
          "text": [
            "[156 130 164 154 148 140]\n"
          ]
        }
      ]
    },
    {
      "cell_type": "markdown",
      "source": [
        "So here we see the same operation can be easily executed with NumPy.Also, NumPy arrays are faster than Lists."
      ],
      "metadata": {
        "id": "dpqb1Mgo8e-C"
      }
    },
    {
      "cell_type": "markdown",
      "source": [
        "NumPy comes with its own set of methods and operations\n"
      ],
      "metadata": {
        "id": "Q47dDtIU83fr"
      }
    },
    {
      "cell_type": "code",
      "source": [
        "first_list=[1,2,3,4,5]\n",
        "second_list=[6,7,8,9,10]\n",
        "list_full=first_list+second_list\n",
        "list_full"
      ],
      "metadata": {
        "colab": {
          "base_uri": "https://localhost:8080/"
        },
        "id": "GLY7w_zR5FtD",
        "outputId": "6a3e8258-6fcc-4d2f-c92d-d131bfec6c7c"
      },
      "execution_count": null,
      "outputs": [
        {
          "output_type": "execute_result",
          "data": {
            "text/plain": [
              "[1, 2, 3, 4, 5, 6, 7, 8, 9, 10]"
            ]
          },
          "metadata": {},
          "execution_count": 4
        }
      ]
    },
    {
      "cell_type": "code",
      "source": [
        "np1=np.array(first_list)\n",
        "np2=np.array(second_list)\n",
        "np_sum=np1+np2\n",
        "np_sum"
      ],
      "metadata": {
        "colab": {
          "base_uri": "https://localhost:8080/"
        },
        "id": "2oyzCSF45Fv_",
        "outputId": "c72ea15b-a074-416a-e911-938470ba6fa7"
      },
      "execution_count": null,
      "outputs": [
        {
          "output_type": "execute_result",
          "data": {
            "text/plain": [
              "array([ 7,  9, 11, 13, 15])"
            ]
          },
          "metadata": {},
          "execution_count": 5
        }
      ]
    },
    {
      "cell_type": "markdown",
      "source": [
        "The same '+' operator behaves differently for Lists and numpy arrays. In lists it concatenates and in np arrays it adds consecutive elements of two arrays."
      ],
      "metadata": {
        "id": "2aoyUn3x_5l2"
      }
    },
    {
      "cell_type": "code",
      "source": [
        "type(np_sum) #This is a n-dimensional array"
      ],
      "metadata": {
        "colab": {
          "base_uri": "https://localhost:8080/"
        },
        "id": "GI8Geowe5GCF",
        "outputId": "c671e11e-a073-41b2-ea48-c59ba32e7727"
      },
      "execution_count": null,
      "outputs": [
        {
          "output_type": "execute_result",
          "data": {
            "text/plain": [
              "numpy.ndarray"
            ]
          },
          "metadata": {},
          "execution_count": 6
        }
      ]
    },
    {
      "cell_type": "markdown",
      "source": [
        "The key advantage of using NumPy arrays over lists is that arrays allow you to operate over the entire data, unlike lists.\n",
        "There are two ways to create NumPy arrays, which are mentioned below.\n",
        "\n",
        "By converting the existing lists or tuples to arrays using np.array\n",
        "\n",
        "By initialising fixed-length arrays using the NumPy functions"
      ],
      "metadata": {
        "id": "MvKxVOMkLJIX"
      }
    },
    {
      "cell_type": "markdown",
      "source": [
        "\n",
        "\n",
        "1.   Another feature of NumPy arrays is that they are homogeneous in nature. By homogenous, we mean that all the elements in a NumPy array have to be of the same data type, which could be an integer, float, string, etc.\n",
        "\n",
        "\n",
        "---\n",
        "\n",
        "\n",
        "\n"
      ],
      "metadata": {
        "id": "sc6XAEyMLxDy"
      }
    },
    {
      "cell_type": "markdown",
      "source": [
        "\n",
        "\n",
        "*   Now we will look at operations and functions on 1D arrays\n",
        "\n"
      ],
      "metadata": {
        "id": "TTrWGbw1Ombs"
      }
    },
    {
      "cell_type": "code",
      "source": [
        "import random\n",
        "\n",
        "heights = [int(random.uniform(70, 80)) for _ in range(100)]\n",
        "print(heights)\n"
      ],
      "metadata": {
        "colab": {
          "base_uri": "https://localhost:8080/"
        },
        "id": "Ybg2iTmk5GFU",
        "outputId": "53a6c8d6-94e3-4afa-b946-f7586bb89c36"
      },
      "execution_count": null,
      "outputs": [
        {
          "output_type": "stream",
          "name": "stdout",
          "text": [
            "[78, 79, 70, 73, 74, 75, 74, 77, 73, 74, 71, 78, 74, 79, 70, 73, 73, 73, 73, 76, 70, 70, 75, 70, 74, 79, 76, 73, 78, 75, 70, 74, 70, 71, 77, 70, 71, 74, 78, 74, 77, 79, 79, 73, 78, 70, 77, 79, 74, 78, 76, 76, 75, 76, 71, 77, 79, 79, 72, 78, 78, 75, 75, 74, 78, 79, 77, 72, 77, 71, 73, 74, 74, 76, 74, 77, 79, 71, 70, 78, 73, 73, 70, 73, 72, 70, 78, 75, 79, 73, 77, 70, 78, 74, 74, 78, 70, 76, 72, 76]\n"
          ]
        }
      ]
    },
    {
      "cell_type": "code",
      "source": [
        "arr=np.array(heights)\n",
        "type(arr)"
      ],
      "metadata": {
        "colab": {
          "base_uri": "https://localhost:8080/"
        },
        "id": "uZ-nXDNHJ75c",
        "outputId": "e0c95e6c-2cd1-4e87-fc30-3b62a8cf32fc"
      },
      "execution_count": null,
      "outputs": [
        {
          "output_type": "execute_result",
          "data": {
            "text/plain": [
              "numpy.ndarray"
            ]
          },
          "metadata": {},
          "execution_count": 8
        }
      ]
    },
    {
      "cell_type": "code",
      "source": [
        "#Counting the length of numpy array. We have multiple ways of doing it-\n",
        "# 1. Uisng the len() function\n",
        "len(arr)\n"
      ],
      "metadata": {
        "colab": {
          "base_uri": "https://localhost:8080/"
        },
        "id": "cn3zB5u9J8Hg",
        "outputId": "8afc08d2-a7cf-4f9c-9dd3-13d472966a5d"
      },
      "execution_count": null,
      "outputs": [
        {
          "output_type": "execute_result",
          "data": {
            "text/plain": [
              "100"
            ]
          },
          "metadata": {},
          "execution_count": 9
        }
      ]
    },
    {
      "cell_type": "code",
      "source": [
        "# 2. Using the 'size' method\n",
        "arr.size\n"
      ],
      "metadata": {
        "colab": {
          "base_uri": "https://localhost:8080/"
        },
        "id": "Tfiu7zCpJ8K-",
        "outputId": "645eeb9d-12a7-480a-f6c3-06e9325ed619"
      },
      "execution_count": null,
      "outputs": [
        {
          "output_type": "execute_result",
          "data": {
            "text/plain": [
              "100"
            ]
          },
          "metadata": {},
          "execution_count": 10
        }
      ]
    },
    {
      "cell_type": "code",
      "source": [
        "# 3. Using the 'shape' method\n",
        "arr.shape"
      ],
      "metadata": {
        "colab": {
          "base_uri": "https://localhost:8080/"
        },
        "id": "h_skHtLrJ8Oa",
        "outputId": "450af003-8f33-4c83-ce3b-c69ae2f97ae8"
      },
      "execution_count": null,
      "outputs": [
        {
          "output_type": "execute_result",
          "data": {
            "text/plain": [
              "(100,)"
            ]
          },
          "metadata": {},
          "execution_count": 11
        }
      ]
    },
    {
      "cell_type": "code",
      "source": [
        "# Convert heights from inches to meters\n",
        "heights_m=arr*0.0254\n",
        "heights_m"
      ],
      "metadata": {
        "colab": {
          "base_uri": "https://localhost:8080/"
        },
        "id": "0QVMxrYl5GIC",
        "outputId": "7621b31c-0170-4784-a1e1-5c87eb4df9c7"
      },
      "execution_count": null,
      "outputs": [
        {
          "output_type": "execute_result",
          "data": {
            "text/plain": [
              "array([1.9812, 2.0066, 1.778 , 1.8542, 1.8796, 1.905 , 1.8796, 1.9558,\n",
              "       1.8542, 1.8796, 1.8034, 1.9812, 1.8796, 2.0066, 1.778 , 1.8542,\n",
              "       1.8542, 1.8542, 1.8542, 1.9304, 1.778 , 1.778 , 1.905 , 1.778 ,\n",
              "       1.8796, 2.0066, 1.9304, 1.8542, 1.9812, 1.905 , 1.778 , 1.8796,\n",
              "       1.778 , 1.8034, 1.9558, 1.778 , 1.8034, 1.8796, 1.9812, 1.8796,\n",
              "       1.9558, 2.0066, 2.0066, 1.8542, 1.9812, 1.778 , 1.9558, 2.0066,\n",
              "       1.8796, 1.9812, 1.9304, 1.9304, 1.905 , 1.9304, 1.8034, 1.9558,\n",
              "       2.0066, 2.0066, 1.8288, 1.9812, 1.9812, 1.905 , 1.905 , 1.8796,\n",
              "       1.9812, 2.0066, 1.9558, 1.8288, 1.9558, 1.8034, 1.8542, 1.8796,\n",
              "       1.8796, 1.9304, 1.8796, 1.9558, 2.0066, 1.8034, 1.778 , 1.9812,\n",
              "       1.8542, 1.8542, 1.778 , 1.8542, 1.8288, 1.778 , 1.9812, 1.905 ,\n",
              "       2.0066, 1.8542, 1.9558, 1.778 , 1.9812, 1.8796, 1.8796, 1.9812,\n",
              "       1.778 , 1.9304, 1.8288, 1.9304])"
            ]
          },
          "metadata": {},
          "execution_count": 12
        }
      ]
    },
    {
      "cell_type": "code",
      "source": [
        "weights_pounds = [int(random.uniform(80, 300)) for _ in range(100)]\n",
        "weights_lb=np.array(weights_pounds)"
      ],
      "metadata": {
        "id": "Qzn_0OaW5GKv"
      },
      "execution_count": null,
      "outputs": []
    },
    {
      "cell_type": "code",
      "source": [
        "weight_kg=weights_lb*0.453592"
      ],
      "metadata": {
        "id": "rRTZoUuJ5GN4"
      },
      "execution_count": null,
      "outputs": []
    },
    {
      "cell_type": "code",
      "source": [
        "#Calculate BMI\n",
        "\n",
        "bmi=weight_kg/heights_m**2\n",
        "bmi\n"
      ],
      "metadata": {
        "colab": {
          "base_uri": "https://localhost:8080/"
        },
        "id": "oT0krTBY5GQs",
        "outputId": "6b1cbf02-3557-4e33-ecc6-276c0c47643b"
      },
      "execution_count": null,
      "outputs": [
        {
          "output_type": "execute_result",
          "data": {
            "text/plain": [
              "array([17.33404847, 15.43349685, 20.80510324, 20.71342352, 16.30565445,\n",
              "       16.49868601, 27.47566971, 20.2774161 , 11.87393705, 36.84821124,\n",
              "       35.56488724, 13.40499749, 14.50818073, 11.94124574, 12.91351236,\n",
              "       23.7478741 , 17.54704031, 28.89324683, 14.90838763, 32.74334533,\n",
              "       23.9617396 , 12.33957848, 34.49725257, 15.78318177, 17.71795523,\n",
              "       16.22206968, 18.86698337, 21.90081723, 25.07659013, 23.62311861,\n",
              "       28.12276025, 34.15200066, 42.32762384, 26.49932775, 21.93755543,\n",
              "       21.23555365, 28.59137994, 31.45579008, 14.09835943, 19.13025601,\n",
              "       33.55853074, 15.99676316, 18.13717513, 33.51088901, 19.29857397,\n",
              "       22.9573553 , 15.05983535, 10.47675334, 16.43404543, 28.4278395 ,\n",
              "       28.60478124, 11.4419125 , 16.62367606, 32.01301049, 23.70992483,\n",
              "       12.9253705 , 22.98126538, 17.91186861, 15.59663112, 23.34318528,\n",
              "       22.64982334, 18.24854665, 21.62327788, 16.04887249, 24.38322819,\n",
              "       12.27920552, 14.82267259, 18.17346582, 11.73955669, 22.87310395,\n",
              "       10.81847598, 32.6113089 , 15.79209053, 33.3519577 , 30.17188029,\n",
              "       11.14664979, 10.47675334, 17.29429811, 35.15345031, 15.60064363,\n",
              "       15.69998344, 27.04618995, 16.21363218, 36.28147433, 26.71770722,\n",
              "       31.85333048, 27.96559821, 37.37202362, 12.72981857, 11.87393705,\n",
              "       12.09530083, 13.48744624, 32.24133016, 27.98923363, 19.51542895,\n",
              "       13.86723878, 32.28378089, 31.28267565, 17.35972855, 28.11789135])"
            ]
          },
          "metadata": {},
          "execution_count": 15
        }
      ]
    },
    {
      "cell_type": "markdown",
      "source": [
        "In the BMI example given above, if you had been working with lists, then you would have needed to map a lambda function (or worse, write a for loop). Whereas, with NumPy, you simply use the relevant operators, as NumPy does all the back-end coding on its own."
      ],
      "metadata": {
        "id": "j2XLbeCHb-07"
      }
    },
    {
      "cell_type": "markdown",
      "source": [
        "<font color=\"red\">Subsets in NumPy arrays</font>\n"
      ],
      "metadata": {
        "id": "_rLrY_uocukX"
      }
    },
    {
      "cell_type": "code",
      "source": [
        "#Indexing and slicing in 1D arrays are similar to those of python lists\n",
        "#We can also do conditional subsetting\n",
        "\n",
        "bmi>25"
      ],
      "metadata": {
        "colab": {
          "base_uri": "https://localhost:8080/"
        },
        "id": "nAqFE0GO5GTf",
        "outputId": "e72eeb2b-b523-4886-cc36-495bc7cd9be3"
      },
      "execution_count": null,
      "outputs": [
        {
          "output_type": "execute_result",
          "data": {
            "text/plain": [
              "array([False, False, False, False, False, False,  True, False, False,\n",
              "        True,  True, False, False, False, False, False, False,  True,\n",
              "       False,  True, False, False,  True, False, False, False, False,\n",
              "       False,  True, False,  True,  True,  True,  True, False, False,\n",
              "        True,  True, False, False,  True, False, False,  True, False,\n",
              "       False, False, False, False,  True,  True, False, False,  True,\n",
              "       False, False, False, False, False, False, False, False, False,\n",
              "       False, False, False, False, False, False, False, False,  True,\n",
              "       False,  True,  True, False, False, False,  True, False, False,\n",
              "        True, False,  True,  True,  True,  True,  True, False, False,\n",
              "       False, False,  True,  True, False, False,  True,  True, False,\n",
              "        True])"
            ]
          },
          "metadata": {},
          "execution_count": 16
        }
      ]
    },
    {
      "cell_type": "code",
      "source": [
        "#Masking: In the previous code block, bmi>25 gave us a boolean array which needs to be masked on the bmi array to get the values\n",
        "# which satisfy the condition, i.e, where the value is True\n",
        "bmi[bmi>25]"
      ],
      "metadata": {
        "colab": {
          "base_uri": "https://localhost:8080/"
        },
        "id": "3KR2ha0i5GWM",
        "outputId": "e500c9bc-f8a1-41f5-af6b-9120a0df298d"
      },
      "execution_count": null,
      "outputs": [
        {
          "output_type": "execute_result",
          "data": {
            "text/plain": [
              "array([27.47566971, 36.84821124, 35.56488724, 28.89324683, 32.74334533,\n",
              "       34.49725257, 25.07659013, 28.12276025, 34.15200066, 42.32762384,\n",
              "       26.49932775, 28.59137994, 31.45579008, 33.55853074, 33.51088901,\n",
              "       28.4278395 , 28.60478124, 32.01301049, 32.6113089 , 33.3519577 ,\n",
              "       30.17188029, 35.15345031, 27.04618995, 36.28147433, 26.71770722,\n",
              "       31.85333048, 27.96559821, 37.37202362, 32.24133016, 27.98923363,\n",
              "       32.28378089, 31.28267565, 28.11789135])"
            ]
          },
          "metadata": {},
          "execution_count": 17
        }
      ]
    },
    {
      "cell_type": "code",
      "source": [
        "#Some other numpy methods for 1D array\n",
        "bmi.min()\n",
        "bmi.max()\n",
        "bmi.mean()"
      ],
      "metadata": {
        "colab": {
          "base_uri": "https://localhost:8080/"
        },
        "id": "LDqkcZCE5GZA",
        "outputId": "ffad20be-7016-49cf-8053-0ff071855e7e"
      },
      "execution_count": null,
      "outputs": [
        {
          "output_type": "execute_result",
          "data": {
            "text/plain": [
              "21.735406567847576"
            ]
          },
          "metadata": {},
          "execution_count": 18
        }
      ]
    },
    {
      "cell_type": "markdown",
      "source": [
        "<font color=\"red\">Multidimensional NumPy arrays</font>\n"
      ],
      "metadata": {
        "id": "aczhJzHwWZAL"
      }
    },
    {
      "cell_type": "code",
      "source": [
        "import random\n",
        "players = [(int(random.uniform(50, 90)), int(random.uniform(50, 90))) for _ in range(100)]\n",
        "players\n"
      ],
      "metadata": {
        "colab": {
          "base_uri": "https://localhost:8080/"
        },
        "id": "53YZeF2s5Gbz",
        "outputId": "6c889b87-bfd2-4fb1-cbb0-a73507688cb9"
      },
      "execution_count": null,
      "outputs": [
        {
          "output_type": "execute_result",
          "data": {
            "text/plain": [
              "[(55, 65),\n",
              " (80, 52),\n",
              " (58, 50),\n",
              " (62, 79),\n",
              " (80, 87),\n",
              " (87, 86),\n",
              " (60, 83),\n",
              " (54, 87),\n",
              " (75, 86),\n",
              " (82, 53),\n",
              " (86, 87),\n",
              " (89, 54),\n",
              " (86, 70),\n",
              " (74, 83),\n",
              " (70, 87),\n",
              " (71, 69),\n",
              " (75, 60),\n",
              " (65, 69),\n",
              " (58, 50),\n",
              " (71, 73),\n",
              " (64, 71),\n",
              " (77, 53),\n",
              " (83, 71),\n",
              " (67, 68),\n",
              " (54, 59),\n",
              " (71, 80),\n",
              " (53, 75),\n",
              " (59, 70),\n",
              " (61, 53),\n",
              " (65, 87),\n",
              " (57, 81),\n",
              " (83, 64),\n",
              " (78, 56),\n",
              " (75, 81),\n",
              " (86, 89),\n",
              " (88, 72),\n",
              " (55, 59),\n",
              " (59, 52),\n",
              " (53, 78),\n",
              " (83, 87),\n",
              " (51, 68),\n",
              " (74, 70),\n",
              " (59, 81),\n",
              " (57, 79),\n",
              " (78, 74),\n",
              " (85, 56),\n",
              " (57, 88),\n",
              " (56, 59),\n",
              " (62, 78),\n",
              " (61, 58),\n",
              " (66, 59),\n",
              " (84, 64),\n",
              " (72, 55),\n",
              " (58, 67),\n",
              " (75, 53),\n",
              " (75, 66),\n",
              " (84, 71),\n",
              " (73, 89),\n",
              " (63, 63),\n",
              " (57, 66),\n",
              " (72, 72),\n",
              " (57, 73),\n",
              " (79, 85),\n",
              " (88, 86),\n",
              " (60, 79),\n",
              " (67, 66),\n",
              " (50, 72),\n",
              " (54, 85),\n",
              " (57, 70),\n",
              " (81, 81),\n",
              " (85, 55),\n",
              " (50, 55),\n",
              " (80, 64),\n",
              " (85, 59),\n",
              " (57, 84),\n",
              " (81, 74),\n",
              " (67, 55),\n",
              " (73, 75),\n",
              " (68, 87),\n",
              " (76, 61),\n",
              " (53, 81),\n",
              " (50, 87),\n",
              " (75, 87),\n",
              " (54, 75),\n",
              " (61, 60),\n",
              " (50, 66),\n",
              " (51, 88),\n",
              " (65, 83),\n",
              " (66, 56),\n",
              " (62, 61),\n",
              " (84, 60),\n",
              " (72, 61),\n",
              " (74, 69),\n",
              " (56, 75),\n",
              " (51, 70),\n",
              " (78, 53),\n",
              " (82, 71),\n",
              " (78, 69),\n",
              " (83, 75),\n",
              " (84, 78)]"
            ]
          },
          "metadata": {},
          "execution_count": 19
        }
      ]
    },
    {
      "cell_type": "code",
      "source": [
        "players[2][1]"
      ],
      "metadata": {
        "colab": {
          "base_uri": "https://localhost:8080/"
        },
        "id": "t-mDXzcG5Ged",
        "outputId": "8f47cc36-d474-4889-c1da-9e0a01afd0ba"
      },
      "execution_count": null,
      "outputs": [
        {
          "output_type": "execute_result",
          "data": {
            "text/plain": [
              "50"
            ]
          },
          "metadata": {},
          "execution_count": 20
        }
      ]
    },
    {
      "cell_type": "code",
      "source": [
        "import numpy as np\n",
        "np_players=np.array(players)"
      ],
      "metadata": {
        "id": "YveabOws5GhM"
      },
      "execution_count": null,
      "outputs": []
    },
    {
      "cell_type": "code",
      "source": [
        "type(np_players)"
      ],
      "metadata": {
        "colab": {
          "base_uri": "https://localhost:8080/"
        },
        "id": "PLnf_ohc5GkA",
        "outputId": "f4a265c2-0448-4a7b-a550-10988c2dcb0f"
      },
      "execution_count": null,
      "outputs": [
        {
          "output_type": "execute_result",
          "data": {
            "text/plain": [
              "numpy.ndarray"
            ]
          },
          "metadata": {},
          "execution_count": 22
        }
      ]
    },
    {
      "cell_type": "markdown",
      "source": [
        "<font color=\"blue\" size=\"2\">Attributes of 2D NumPy arrays</font>\n"
      ],
      "metadata": {
        "id": "tNLSOwqH5uuB"
      }
    },
    {
      "cell_type": "code",
      "source": [
        "#Structure of 2D array\n",
        "np_players.shape"
      ],
      "metadata": {
        "colab": {
          "base_uri": "https://localhost:8080/"
        },
        "id": "koBG8VcG5GnI",
        "outputId": "05146511-2927-4e0f-b8fa-701971de4c29"
      },
      "execution_count": null,
      "outputs": [
        {
          "output_type": "execute_result",
          "data": {
            "text/plain": [
              "(100, 2)"
            ]
          },
          "metadata": {},
          "execution_count": 23
        }
      ]
    },
    {
      "cell_type": "code",
      "source": [
        "#Dimensions of 2D array\n",
        "np_players.ndim"
      ],
      "metadata": {
        "colab": {
          "base_uri": "https://localhost:8080/"
        },
        "id": "F_9SHR9X5GqE",
        "outputId": "05510300-b721-4a2d-ab99-9eba3266bc14"
      },
      "execution_count": null,
      "outputs": [
        {
          "output_type": "execute_result",
          "data": {
            "text/plain": [
              "2"
            ]
          },
          "metadata": {},
          "execution_count": 24
        }
      ]
    },
    {
      "cell_type": "code",
      "source": [
        "#Datatype of elements in the array\n",
        "np_players.dtype"
      ],
      "metadata": {
        "colab": {
          "base_uri": "https://localhost:8080/"
        },
        "id": "bsoqspVJ5Gs2",
        "outputId": "8a942959-b88f-4267-fb91-80bb8d79fafd"
      },
      "execution_count": null,
      "outputs": [
        {
          "output_type": "execute_result",
          "data": {
            "text/plain": [
              "dtype('int64')"
            ]
          },
          "metadata": {},
          "execution_count": 25
        }
      ]
    },
    {
      "cell_type": "code",
      "source": [
        "#Size of single item of the 2D array\n",
        "np_players.itemsize"
      ],
      "metadata": {
        "colab": {
          "base_uri": "https://localhost:8080/"
        },
        "id": "NJZgG_4S5Gvo",
        "outputId": "e12ce22d-917f-48c3-90ab-8a25f8762bd0"
      },
      "execution_count": null,
      "outputs": [
        {
          "output_type": "execute_result",
          "data": {
            "text/plain": [
              "8"
            ]
          },
          "metadata": {},
          "execution_count": 26
        }
      ]
    },
    {
      "cell_type": "code",
      "source": [
        "# Convert heights to meters and weights to kg\n",
        "\n",
        "np_players_converted=np_players * [0.0254,0.4535]\n",
        "np_players_converted"
      ],
      "metadata": {
        "colab": {
          "base_uri": "https://localhost:8080/"
        },
        "id": "Q65YUNAe5Gyg",
        "outputId": "8253fac5-cb90-4e45-c246-4b49a541808e"
      },
      "execution_count": null,
      "outputs": [
        {
          "output_type": "execute_result",
          "data": {
            "text/plain": [
              "array([[ 1.397 , 29.4775],\n",
              "       [ 2.032 , 23.582 ],\n",
              "       [ 1.4732, 22.675 ],\n",
              "       [ 1.5748, 35.8265],\n",
              "       [ 2.032 , 39.4545],\n",
              "       [ 2.2098, 39.001 ],\n",
              "       [ 1.524 , 37.6405],\n",
              "       [ 1.3716, 39.4545],\n",
              "       [ 1.905 , 39.001 ],\n",
              "       [ 2.0828, 24.0355],\n",
              "       [ 2.1844, 39.4545],\n",
              "       [ 2.2606, 24.489 ],\n",
              "       [ 2.1844, 31.745 ],\n",
              "       [ 1.8796, 37.6405],\n",
              "       [ 1.778 , 39.4545],\n",
              "       [ 1.8034, 31.2915],\n",
              "       [ 1.905 , 27.21  ],\n",
              "       [ 1.651 , 31.2915],\n",
              "       [ 1.4732, 22.675 ],\n",
              "       [ 1.8034, 33.1055],\n",
              "       [ 1.6256, 32.1985],\n",
              "       [ 1.9558, 24.0355],\n",
              "       [ 2.1082, 32.1985],\n",
              "       [ 1.7018, 30.838 ],\n",
              "       [ 1.3716, 26.7565],\n",
              "       [ 1.8034, 36.28  ],\n",
              "       [ 1.3462, 34.0125],\n",
              "       [ 1.4986, 31.745 ],\n",
              "       [ 1.5494, 24.0355],\n",
              "       [ 1.651 , 39.4545],\n",
              "       [ 1.4478, 36.7335],\n",
              "       [ 2.1082, 29.024 ],\n",
              "       [ 1.9812, 25.396 ],\n",
              "       [ 1.905 , 36.7335],\n",
              "       [ 2.1844, 40.3615],\n",
              "       [ 2.2352, 32.652 ],\n",
              "       [ 1.397 , 26.7565],\n",
              "       [ 1.4986, 23.582 ],\n",
              "       [ 1.3462, 35.373 ],\n",
              "       [ 2.1082, 39.4545],\n",
              "       [ 1.2954, 30.838 ],\n",
              "       [ 1.8796, 31.745 ],\n",
              "       [ 1.4986, 36.7335],\n",
              "       [ 1.4478, 35.8265],\n",
              "       [ 1.9812, 33.559 ],\n",
              "       [ 2.159 , 25.396 ],\n",
              "       [ 1.4478, 39.908 ],\n",
              "       [ 1.4224, 26.7565],\n",
              "       [ 1.5748, 35.373 ],\n",
              "       [ 1.5494, 26.303 ],\n",
              "       [ 1.6764, 26.7565],\n",
              "       [ 2.1336, 29.024 ],\n",
              "       [ 1.8288, 24.9425],\n",
              "       [ 1.4732, 30.3845],\n",
              "       [ 1.905 , 24.0355],\n",
              "       [ 1.905 , 29.931 ],\n",
              "       [ 2.1336, 32.1985],\n",
              "       [ 1.8542, 40.3615],\n",
              "       [ 1.6002, 28.5705],\n",
              "       [ 1.4478, 29.931 ],\n",
              "       [ 1.8288, 32.652 ],\n",
              "       [ 1.4478, 33.1055],\n",
              "       [ 2.0066, 38.5475],\n",
              "       [ 2.2352, 39.001 ],\n",
              "       [ 1.524 , 35.8265],\n",
              "       [ 1.7018, 29.931 ],\n",
              "       [ 1.27  , 32.652 ],\n",
              "       [ 1.3716, 38.5475],\n",
              "       [ 1.4478, 31.745 ],\n",
              "       [ 2.0574, 36.7335],\n",
              "       [ 2.159 , 24.9425],\n",
              "       [ 1.27  , 24.9425],\n",
              "       [ 2.032 , 29.024 ],\n",
              "       [ 2.159 , 26.7565],\n",
              "       [ 1.4478, 38.094 ],\n",
              "       [ 2.0574, 33.559 ],\n",
              "       [ 1.7018, 24.9425],\n",
              "       [ 1.8542, 34.0125],\n",
              "       [ 1.7272, 39.4545],\n",
              "       [ 1.9304, 27.6635],\n",
              "       [ 1.3462, 36.7335],\n",
              "       [ 1.27  , 39.4545],\n",
              "       [ 1.905 , 39.4545],\n",
              "       [ 1.3716, 34.0125],\n",
              "       [ 1.5494, 27.21  ],\n",
              "       [ 1.27  , 29.931 ],\n",
              "       [ 1.2954, 39.908 ],\n",
              "       [ 1.651 , 37.6405],\n",
              "       [ 1.6764, 25.396 ],\n",
              "       [ 1.5748, 27.6635],\n",
              "       [ 2.1336, 27.21  ],\n",
              "       [ 1.8288, 27.6635],\n",
              "       [ 1.8796, 31.2915],\n",
              "       [ 1.4224, 34.0125],\n",
              "       [ 1.2954, 31.745 ],\n",
              "       [ 1.9812, 24.0355],\n",
              "       [ 2.0828, 32.1985],\n",
              "       [ 1.9812, 31.2915],\n",
              "       [ 2.1082, 34.0125],\n",
              "       [ 2.1336, 35.373 ]])"
            ]
          },
          "metadata": {},
          "execution_count": 27
        }
      ]
    },
    {
      "cell_type": "markdown",
      "source": [
        "<font color=\"red\" size=\"2\">subsets in 2D NumPy arrays</font>\n"
      ],
      "metadata": {
        "id": "dlsW_i2GxtbT"
      }
    },
    {
      "cell_type": "code",
      "source": [
        "# Fetch 1st row of the array\n",
        "np_players[0]"
      ],
      "metadata": {
        "colab": {
          "base_uri": "https://localhost:8080/"
        },
        "id": "0Dqex-zB5G1a",
        "outputId": "968c6ca4-b117-4d48-d551-a0fd5b9f6ea8"
      },
      "execution_count": null,
      "outputs": [
        {
          "output_type": "execute_result",
          "data": {
            "text/plain": [
              "array([55, 65])"
            ]
          },
          "metadata": {},
          "execution_count": 28
        }
      ]
    },
    {
      "cell_type": "code",
      "source": [
        "# Fetch 1st row 1st element\n",
        "np_players[0][0]"
      ],
      "metadata": {
        "colab": {
          "base_uri": "https://localhost:8080/"
        },
        "id": "wGsfRMa85G4R",
        "outputId": "34aa7e3d-190c-49b7-cc4f-991808465eba"
      },
      "execution_count": null,
      "outputs": [
        {
          "output_type": "execute_result",
          "data": {
            "text/plain": [
              "55"
            ]
          },
          "metadata": {},
          "execution_count": 29
        }
      ]
    },
    {
      "cell_type": "code",
      "source": [
        "# Fetch 1st column from array\n",
        "np_players[:,0]"
      ],
      "metadata": {
        "colab": {
          "base_uri": "https://localhost:8080/"
        },
        "id": "_ChxwC3j5G7A",
        "outputId": "e5804cdd-a365-4f37-e032-084fae744dfb"
      },
      "execution_count": null,
      "outputs": [
        {
          "output_type": "execute_result",
          "data": {
            "text/plain": [
              "array([55, 80, 58, 62, 80, 87, 60, 54, 75, 82, 86, 89, 86, 74, 70, 71, 75,\n",
              "       65, 58, 71, 64, 77, 83, 67, 54, 71, 53, 59, 61, 65, 57, 83, 78, 75,\n",
              "       86, 88, 55, 59, 53, 83, 51, 74, 59, 57, 78, 85, 57, 56, 62, 61, 66,\n",
              "       84, 72, 58, 75, 75, 84, 73, 63, 57, 72, 57, 79, 88, 60, 67, 50, 54,\n",
              "       57, 81, 85, 50, 80, 85, 57, 81, 67, 73, 68, 76, 53, 50, 75, 54, 61,\n",
              "       50, 51, 65, 66, 62, 84, 72, 74, 56, 51, 78, 82, 78, 83, 84])"
            ]
          },
          "metadata": {},
          "execution_count": 30
        }
      ]
    },
    {
      "cell_type": "code",
      "source": [
        "# Find height of 12th player\n",
        "np_players_converted[11][0]"
      ],
      "metadata": {
        "colab": {
          "base_uri": "https://localhost:8080/"
        },
        "id": "guQdHTDr5G95",
        "outputId": "484c1a9d-3266-481e-82e2-6a1bc3c36c1a"
      },
      "execution_count": null,
      "outputs": [
        {
          "output_type": "execute_result",
          "data": {
            "text/plain": [
              "2.2605999999999997"
            ]
          },
          "metadata": {},
          "execution_count": 31
        }
      ]
    },
    {
      "cell_type": "code",
      "source": [
        "# Alternate way to find height of 12th player\n",
        "np_players_converted[11,0]"
      ],
      "metadata": {
        "colab": {
          "base_uri": "https://localhost:8080/"
        },
        "id": "CMuCnL6_5HAz",
        "outputId": "f183a8e1-3f41-498a-f40f-1080a27a9dba"
      },
      "execution_count": null,
      "outputs": [
        {
          "output_type": "execute_result",
          "data": {
            "text/plain": [
              "2.2605999999999997"
            ]
          },
          "metadata": {},
          "execution_count": 32
        }
      ]
    },
    {
      "cell_type": "code",
      "source": [
        "possible_skills = ['batsman', 'bowler', 'keeper', 'batsman-keeper', 'all-rounder', 'fielder', 'spin bowler', 'pace bowler', 'wicket-keeper']\n",
        "skills = np.random.choice(possible_skills, size=100)\n",
        "print(skills)\n",
        "np_players_converted[skills=='batsman']\n"
      ],
      "metadata": {
        "colab": {
          "base_uri": "https://localhost:8080/"
        },
        "id": "ZJly18V05HDj",
        "outputId": "e153a0e7-1889-43bb-9e6a-c6e05ce1852c"
      },
      "execution_count": null,
      "outputs": [
        {
          "output_type": "stream",
          "name": "stdout",
          "text": [
            "['batsman-keeper' 'batsman' 'batsman-keeper' 'pace bowler' 'batsman'\n",
            " 'all-rounder' 'fielder' 'bowler' 'keeper' 'bowler' 'fielder'\n",
            " 'all-rounder' 'bowler' 'all-rounder' 'pace bowler' 'batsman-keeper'\n",
            " 'batsman-keeper' 'all-rounder' 'spin bowler' 'bowler' 'bowler'\n",
            " 'pace bowler' 'pace bowler' 'spin bowler' 'spin bowler' 'bowler'\n",
            " 'batsman-keeper' 'pace bowler' 'pace bowler' 'batsman' 'pace bowler'\n",
            " 'batsman' 'wicket-keeper' 'fielder' 'fielder' 'batsman-keeper'\n",
            " 'wicket-keeper' 'bowler' 'batsman' 'pace bowler' 'fielder' 'fielder'\n",
            " 'all-rounder' 'wicket-keeper' 'fielder' 'batsman-keeper' 'all-rounder'\n",
            " 'fielder' 'bowler' 'batsman-keeper' 'batsman' 'bowler' 'batsman-keeper'\n",
            " 'bowler' 'all-rounder' 'bowler' 'all-rounder' 'all-rounder' 'fielder'\n",
            " 'pace bowler' 'spin bowler' 'batsman-keeper' 'pace bowler' 'batsman'\n",
            " 'keeper' 'bowler' 'fielder' 'fielder' 'spin bowler' 'pace bowler'\n",
            " 'keeper' 'pace bowler' 'batsman-keeper' 'batsman-keeper' 'keeper'\n",
            " 'wicket-keeper' 'batsman' 'keeper' 'batsman-keeper' 'batsman-keeper'\n",
            " 'batsman-keeper' 'bowler' 'pace bowler' 'spin bowler' 'fielder'\n",
            " 'spin bowler' 'bowler' 'wicket-keeper' 'fielder' 'wicket-keeper'\n",
            " 'spin bowler' 'bowler' 'spin bowler' 'pace bowler' 'pace bowler'\n",
            " 'batsman' 'bowler' 'batsman-keeper' 'wicket-keeper' 'pace bowler']\n"
          ]
        },
        {
          "output_type": "execute_result",
          "data": {
            "text/plain": [
              "array([[ 2.032 , 23.582 ],\n",
              "       [ 2.032 , 39.4545],\n",
              "       [ 1.651 , 39.4545],\n",
              "       [ 2.1082, 29.024 ],\n",
              "       [ 1.3462, 35.373 ],\n",
              "       [ 1.6764, 26.7565],\n",
              "       [ 2.2352, 39.001 ],\n",
              "       [ 1.7018, 24.9425],\n",
              "       [ 1.9812, 24.0355]])"
            ]
          },
          "metadata": {},
          "execution_count": 33
        }
      ]
    },
    {
      "cell_type": "markdown",
      "source": [
        "\n",
        "\n",
        "*   Other ways of creating NumPy arrays are:\n",
        "        np.ones(): It is used to create an array of 1s.\n",
        "\n",
        "        np.zeros(): It is used to create an array of 0s.\n",
        "\n",
        "        np.random.randint(): It is used to create a random array of integers within a particular range.\n",
        "\n",
        "        np.random.random(): It is used to create an array of random numbers.\n",
        "\n",
        "        np.arange(): It is used to create an array with increments of fixed step size.\n",
        "\n",
        "        np.linspace(): It is used to create an array of fixed length.\n",
        "        np.full(): It is used to create a constant array of any number ‘n’.\n",
        "\n",
        "        np.tile(): It is used to create a new array by repeating an existing\n",
        "         array for a particular number of times.\n",
        "         \n",
        "        np.eye(): It is used to create an identity matrix of any dimension\n",
        "\n"
      ],
      "metadata": {
        "id": "B3CjA7NODdj8"
      }
    },
    {
      "cell_type": "code",
      "source": [
        "help(np.ones)"
      ],
      "metadata": {
        "colab": {
          "base_uri": "https://localhost:8080/"
        },
        "id": "aWhbsdAl5HGx",
        "outputId": "80b02d8a-8aae-4287-b3e6-1c4a59537920"
      },
      "execution_count": null,
      "outputs": [
        {
          "output_type": "stream",
          "name": "stdout",
          "text": [
            "Help on function ones in module numpy:\n",
            "\n",
            "ones(shape, dtype=None, order='C', *, like=None)\n",
            "    Return a new array of given shape and type, filled with ones.\n",
            "    \n",
            "    Parameters\n",
            "    ----------\n",
            "    shape : int or sequence of ints\n",
            "        Shape of the new array, e.g., ``(2, 3)`` or ``2``.\n",
            "    dtype : data-type, optional\n",
            "        The desired data-type for the array, e.g., `numpy.int8`.  Default is\n",
            "        `numpy.float64`.\n",
            "    order : {'C', 'F'}, optional, default: C\n",
            "        Whether to store multi-dimensional data in row-major\n",
            "        (C-style) or column-major (Fortran-style) order in\n",
            "        memory.\n",
            "    like : array_like, optional\n",
            "        Reference object to allow the creation of arrays which are not\n",
            "        NumPy arrays. If an array-like passed in as ``like`` supports\n",
            "        the ``__array_function__`` protocol, the result will be defined\n",
            "        by it. In this case, it ensures the creation of an array object\n",
            "        compatible with that passed in via this argument.\n",
            "    \n",
            "        .. versionadded:: 1.20.0\n",
            "    \n",
            "    Returns\n",
            "    -------\n",
            "    out : ndarray\n",
            "        Array of ones with the given shape, dtype, and order.\n",
            "    \n",
            "    See Also\n",
            "    --------\n",
            "    ones_like : Return an array of ones with shape and type of input.\n",
            "    empty : Return a new uninitialized array.\n",
            "    zeros : Return a new array setting values to zero.\n",
            "    full : Return a new array of given shape filled with value.\n",
            "    \n",
            "    \n",
            "    Examples\n",
            "    --------\n",
            "    >>> np.ones(5)\n",
            "    array([1., 1., 1., 1., 1.])\n",
            "    \n",
            "    >>> np.ones((5,), dtype=int)\n",
            "    array([1, 1, 1, 1, 1])\n",
            "    \n",
            "    >>> np.ones((2, 1))\n",
            "    array([[1.],\n",
            "           [1.]])\n",
            "    \n",
            "    >>> s = (2,2)\n",
            "    >>> np.ones(s)\n",
            "    array([[1.,  1.],\n",
            "           [1.,  1.]])\n",
            "\n"
          ]
        }
      ]
    },
    {
      "cell_type": "code",
      "source": [
        "arr=np.ones(5)\n",
        "arr"
      ],
      "metadata": {
        "colab": {
          "base_uri": "https://localhost:8080/"
        },
        "id": "CPSuFXaq5HJn",
        "outputId": "ff96f556-eac7-4d31-9466-9aa9f7ae77d4"
      },
      "execution_count": null,
      "outputs": [
        {
          "output_type": "execute_result",
          "data": {
            "text/plain": [
              "array([1., 1., 1., 1., 1.])"
            ]
          },
          "metadata": {},
          "execution_count": 35
        }
      ]
    },
    {
      "cell_type": "code",
      "source": [
        "arr.dtype"
      ],
      "metadata": {
        "colab": {
          "base_uri": "https://localhost:8080/"
        },
        "id": "IfgTWNJf5HMp",
        "outputId": "f6e875df-f240-4124-be1b-a0232073b7d9"
      },
      "execution_count": null,
      "outputs": [
        {
          "output_type": "execute_result",
          "data": {
            "text/plain": [
              "dtype('float64')"
            ]
          },
          "metadata": {},
          "execution_count": 36
        }
      ]
    },
    {
      "cell_type": "code",
      "source": [
        "arr_int=np.ones(5,dtype=int)"
      ],
      "metadata": {
        "id": "WDGeyaQ45HPm"
      },
      "execution_count": null,
      "outputs": []
    },
    {
      "cell_type": "code",
      "source": [
        "arr_int.dtype"
      ],
      "metadata": {
        "colab": {
          "base_uri": "https://localhost:8080/"
        },
        "id": "1wuH2PUK5HSJ",
        "outputId": "f0724fa1-befa-4e60-9168-8cd1bd533333"
      },
      "execution_count": null,
      "outputs": [
        {
          "output_type": "execute_result",
          "data": {
            "text/plain": [
              "dtype('int64')"
            ]
          },
          "metadata": {},
          "execution_count": 38
        }
      ]
    },
    {
      "cell_type": "code",
      "source": [
        "np.ones([5,3])"
      ],
      "metadata": {
        "colab": {
          "base_uri": "https://localhost:8080/"
        },
        "id": "p-O3hSM55HVC",
        "outputId": "77b3ef31-2ddd-48d4-b62b-89ef8a529873"
      },
      "execution_count": null,
      "outputs": [
        {
          "output_type": "execute_result",
          "data": {
            "text/plain": [
              "array([[1., 1., 1.],\n",
              "       [1., 1., 1.],\n",
              "       [1., 1., 1.],\n",
              "       [1., 1., 1.],\n",
              "       [1., 1., 1.]])"
            ]
          },
          "metadata": {},
          "execution_count": 39
        }
      ]
    },
    {
      "cell_type": "code",
      "source": [
        "np.ones([5,3],dtype=int)"
      ],
      "metadata": {
        "colab": {
          "base_uri": "https://localhost:8080/"
        },
        "id": "fHDx9BAd5HYO",
        "outputId": "43d0a2b2-2c34-48b5-ef1b-a7ff7a577976"
      },
      "execution_count": null,
      "outputs": [
        {
          "output_type": "execute_result",
          "data": {
            "text/plain": [
              "array([[1, 1, 1],\n",
              "       [1, 1, 1],\n",
              "       [1, 1, 1],\n",
              "       [1, 1, 1],\n",
              "       [1, 1, 1]])"
            ]
          },
          "metadata": {},
          "execution_count": 40
        }
      ]
    },
    {
      "cell_type": "code",
      "source": [
        "# Creating arrays with range and arange functions\n",
        "list(range(1,10))"
      ],
      "metadata": {
        "colab": {
          "base_uri": "https://localhost:8080/"
        },
        "id": "PaYTNS_Q5Ha-",
        "outputId": "c7de549d-32a9-4013-d3c5-0a89c287e792"
      },
      "execution_count": null,
      "outputs": [
        {
          "output_type": "execute_result",
          "data": {
            "text/plain": [
              "[1, 2, 3, 4, 5, 6, 7, 8, 9]"
            ]
          },
          "metadata": {},
          "execution_count": 41
        }
      ]
    },
    {
      "cell_type": "code",
      "source": [
        "np.arange(5)"
      ],
      "metadata": {
        "colab": {
          "base_uri": "https://localhost:8080/"
        },
        "id": "SmyfTEF3Jp_R",
        "outputId": "f13af7b2-74ad-4694-e7df-252957af0ed7"
      },
      "execution_count": null,
      "outputs": [
        {
          "output_type": "execute_result",
          "data": {
            "text/plain": [
              "array([0, 1, 2, 3, 4])"
            ]
          },
          "metadata": {},
          "execution_count": 42
        }
      ]
    },
    {
      "cell_type": "code",
      "source": [
        "np.arange(5.0)"
      ],
      "metadata": {
        "colab": {
          "base_uri": "https://localhost:8080/"
        },
        "id": "hp5E178qJqNn",
        "outputId": "4e596296-1a93-41f0-86c3-05f895b878a9"
      },
      "execution_count": null,
      "outputs": [
        {
          "output_type": "execute_result",
          "data": {
            "text/plain": [
              "array([0., 1., 2., 3., 4.])"
            ]
          },
          "metadata": {},
          "execution_count": 43
        }
      ]
    },
    {
      "cell_type": "code",
      "source": [
        "np.arange(3,36,3)"
      ],
      "metadata": {
        "colab": {
          "base_uri": "https://localhost:8080/"
        },
        "id": "ljrH6iPiJqRB",
        "outputId": "afbe590f-6dd4-463d-be0d-80f33677358c"
      },
      "execution_count": null,
      "outputs": [
        {
          "output_type": "execute_result",
          "data": {
            "text/plain": [
              "array([ 3,  6,  9, 12, 15, 18, 21, 24, 27, 30, 33])"
            ]
          },
          "metadata": {},
          "execution_count": 44
        }
      ]
    },
    {
      "cell_type": "code",
      "source": [
        "# Generating random integer array\n",
        "np.random.randint(3,7,size=10)"
      ],
      "metadata": {
        "colab": {
          "base_uri": "https://localhost:8080/"
        },
        "id": "TpmUoykIJqU5",
        "outputId": "5a1712e9-3efc-43a1-bece-e1a536dcf269"
      },
      "execution_count": null,
      "outputs": [
        {
          "output_type": "execute_result",
          "data": {
            "text/plain": [
              "array([6, 3, 3, 5, 6, 5, 5, 6, 4, 3])"
            ]
          },
          "metadata": {},
          "execution_count": 45
        }
      ]
    },
    {
      "cell_type": "code",
      "source": [
        "np.random.randint(4,size=7)"
      ],
      "metadata": {
        "colab": {
          "base_uri": "https://localhost:8080/"
        },
        "id": "QljoXbQ0JqXj",
        "outputId": "73a59217-38b8-4988-9a2b-bd6c5f6928f0"
      },
      "execution_count": null,
      "outputs": [
        {
          "output_type": "execute_result",
          "data": {
            "text/plain": [
              "array([2, 0, 3, 2, 3, 0, 3])"
            ]
          },
          "metadata": {},
          "execution_count": 46
        }
      ]
    },
    {
      "cell_type": "code",
      "source": [
        "# Creating 2D array using random function\n",
        "np.random.random([3,4])"
      ],
      "metadata": {
        "colab": {
          "base_uri": "https://localhost:8080/"
        },
        "id": "JpUsSOuPJqbT",
        "outputId": "cef874c7-49ec-46aa-91a7-fabfeb0ad155"
      },
      "execution_count": null,
      "outputs": [
        {
          "output_type": "execute_result",
          "data": {
            "text/plain": [
              "array([[0.55404116, 0.15458019, 0.72996572, 0.10590016],\n",
              "       [0.41294158, 0.62993523, 0.37764495, 0.34505081],\n",
              "       [0.80416535, 0.63391233, 0.44464993, 0.01049898]])"
            ]
          },
          "metadata": {},
          "execution_count": 47
        }
      ]
    },
    {
      "cell_type": "code",
      "source": [
        "# Creating array of fixed length\n",
        "np.linspace(1,10,20)"
      ],
      "metadata": {
        "colab": {
          "base_uri": "https://localhost:8080/"
        },
        "id": "y1GNVC1OJqeJ",
        "outputId": "19d4aa37-3635-49b5-b33b-f9fee23665df"
      },
      "execution_count": null,
      "outputs": [
        {
          "output_type": "execute_result",
          "data": {
            "text/plain": [
              "array([ 1.        ,  1.47368421,  1.94736842,  2.42105263,  2.89473684,\n",
              "        3.36842105,  3.84210526,  4.31578947,  4.78947368,  5.26315789,\n",
              "        5.73684211,  6.21052632,  6.68421053,  7.15789474,  7.63157895,\n",
              "        8.10526316,  8.57894737,  9.05263158,  9.52631579, 10.        ])"
            ]
          },
          "metadata": {},
          "execution_count": 48
        }
      ]
    },
    {
      "cell_type": "markdown",
      "source": [
        "<font color=\"red\"><b><small>Mathematical Operations in NumPy arrays</small></b></font>\n"
      ],
      "metadata": {
        "id": "OC5tQu_y-DMy"
      }
    },
    {
      "cell_type": "markdown",
      "source": [
        "Manipulate arrays\n",
        "\n",
        "    Reshape arrays\n",
        "    Stack arrays\n",
        "Perform operations on arrays\n",
        "\n",
        "    Perform basic mathematical operations\n",
        "\n",
        "      Power\n",
        "      Absolute\n",
        "      Trigonometric\n",
        "      Exponential and logarithmic\n",
        "\n",
        "Apply built-in functions\n",
        "\n",
        "Apply your own functions\n",
        "\n",
        "Apply basic linear algebra operations"
      ],
      "metadata": {
        "id": "s780eEQR-nrV"
      }
    },
    {
      "cell_type": "code",
      "source": [
        "array1=np.arange(1,10)\n",
        "array2=np.arange(7,16)"
      ],
      "metadata": {
        "id": "UCbi-T9sJqiJ"
      },
      "execution_count": null,
      "outputs": []
    },
    {
      "cell_type": "code",
      "source": [
        "array1"
      ],
      "metadata": {
        "id": "kxQUl8_FJqkf",
        "colab": {
          "base_uri": "https://localhost:8080/"
        },
        "outputId": "bca3ffdc-c2b2-4529-a444-9c8451d7f231"
      },
      "execution_count": null,
      "outputs": [
        {
          "output_type": "execute_result",
          "data": {
            "text/plain": [
              "array([1, 2, 3, 4, 5, 6, 7, 8, 9])"
            ]
          },
          "metadata": {},
          "execution_count": 50
        }
      ]
    },
    {
      "cell_type": "code",
      "source": [
        "array2"
      ],
      "metadata": {
        "id": "d63GsaF5Jqn0",
        "colab": {
          "base_uri": "https://localhost:8080/"
        },
        "outputId": "b2622b52-4508-4f78-e265-2c2586f2a65a"
      },
      "execution_count": null,
      "outputs": [
        {
          "output_type": "execute_result",
          "data": {
            "text/plain": [
              "array([ 7,  8,  9, 10, 11, 12, 13, 14, 15])"
            ]
          },
          "metadata": {},
          "execution_count": 51
        }
      ]
    },
    {
      "cell_type": "code",
      "source": [
        "array3=array1+array2\n",
        "array3"
      ],
      "metadata": {
        "id": "toV0EbEtJqqP",
        "colab": {
          "base_uri": "https://localhost:8080/"
        },
        "outputId": "b7afaa34-5a42-4563-f882-8d60725a0cf6"
      },
      "execution_count": null,
      "outputs": [
        {
          "output_type": "execute_result",
          "data": {
            "text/plain": [
              "array([ 8, 10, 12, 14, 16, 18, 20, 22, 24])"
            ]
          },
          "metadata": {},
          "execution_count": 52
        }
      ]
    },
    {
      "cell_type": "code",
      "source": [
        "array4=np.array([1,2,3,4,5])\n"
      ],
      "metadata": {
        "id": "PcjKXB-tJqyC"
      },
      "execution_count": null,
      "outputs": []
    },
    {
      "cell_type": "code",
      "source": [
        "arr=array4+array1 #We cannt add arrays of different sizes"
      ],
      "metadata": {
        "id": "_ylsPGI1Jq0a",
        "colab": {
          "base_uri": "https://localhost:8080/",
          "height": 175
        },
        "outputId": "e8e3f07b-edac-4c36-fc95-57fdec166a82"
      },
      "execution_count": null,
      "outputs": [
        {
          "output_type": "error",
          "ename": "ValueError",
          "evalue": "ignored",
          "traceback": [
            "\u001b[0;31m---------------------------------------------------------------------------\u001b[0m",
            "\u001b[0;31mValueError\u001b[0m                                Traceback (most recent call last)",
            "\u001b[0;32m<ipython-input-54-0593cc64ba00>\u001b[0m in \u001b[0;36m<cell line: 1>\u001b[0;34m()\u001b[0m\n\u001b[0;32m----> 1\u001b[0;31m \u001b[0marr\u001b[0m\u001b[0;34m=\u001b[0m\u001b[0marray4\u001b[0m\u001b[0;34m+\u001b[0m\u001b[0marray1\u001b[0m\u001b[0;34m\u001b[0m\u001b[0;34m\u001b[0m\u001b[0m\n\u001b[0m",
            "\u001b[0;31mValueError\u001b[0m: operands could not be broadcast together with shapes (5,) (9,) "
          ]
        }
      ]
    },
    {
      "cell_type": "markdown",
      "source": [
        "We cannot add numpy arrays of different shape. A point to note here is that when the shapes of NumPy arrays are not the same, the arrays cannot be operated on. Because of this restriction on the operability, the flexibility of NumPy reduces significantly. Fortunately, the developers of NumPy noticed this issue and developed a few functions that can modify the shape of a NumPy array."
      ],
      "metadata": {
        "id": "dWBAMsIhS4cY"
      }
    },
    {
      "cell_type": "code",
      "source": [
        "#np.hstack() and np.vstack are used to stack the arrays horizontally and vertically\n",
        "arr1=np.array([1,2,3])\n",
        "arr2=np.array([2,3,4])\n",
        "# For hstack, number of rows should be the same and for vstack number of columns must be same"
      ],
      "metadata": {
        "id": "2Tj79G2iR8Ab"
      },
      "execution_count": null,
      "outputs": []
    },
    {
      "cell_type": "code",
      "source": [
        "np.hstack([arr1,arr2])"
      ],
      "metadata": {
        "colab": {
          "base_uri": "https://localhost:8080/"
        },
        "id": "bt7sZN1JR8Km",
        "outputId": "d8849da4-55fc-4f23-f41c-5956d51688fd"
      },
      "execution_count": null,
      "outputs": [
        {
          "output_type": "execute_result",
          "data": {
            "text/plain": [
              "array([1, 2, 3, 2, 3, 4])"
            ]
          },
          "metadata": {},
          "execution_count": 57
        }
      ]
    },
    {
      "cell_type": "code",
      "source": [
        "np.vstack([arr1,arr2])"
      ],
      "metadata": {
        "colab": {
          "base_uri": "https://localhost:8080/"
        },
        "id": "h5sjsOApR8Ni",
        "outputId": "f536fd42-a49a-4f09-e220-41e9925a0f8f"
      },
      "execution_count": null,
      "outputs": [
        {
          "output_type": "execute_result",
          "data": {
            "text/plain": [
              "array([[1, 2, 3],\n",
              "       [2, 3, 4]])"
            ]
          },
          "metadata": {},
          "execution_count": 58
        }
      ]
    },
    {
      "cell_type": "code",
      "source": [
        "# Implementation of reshape()\n",
        "\n",
        "a=np.arange(12).reshape(3,4)\n",
        "b=np.arange(20).reshape(5,4)\n",
        "print(a)\n",
        "print(b)"
      ],
      "metadata": {
        "colab": {
          "base_uri": "https://localhost:8080/"
        },
        "id": "xslHXm7RR8Qt",
        "outputId": "058b1034-730e-40a1-b7d0-d58976f1d79d"
      },
      "execution_count": null,
      "outputs": [
        {
          "output_type": "stream",
          "name": "stdout",
          "text": [
            "[[ 0  1  2  3]\n",
            " [ 4  5  6  7]\n",
            " [ 8  9 10 11]]\n",
            "[[ 0  1  2  3]\n",
            " [ 4  5  6  7]\n",
            " [ 8  9 10 11]\n",
            " [12 13 14 15]\n",
            " [16 17 18 19]]\n"
          ]
        }
      ]
    },
    {
      "cell_type": "code",
      "source": [
        "np.vstack([a,b])"
      ],
      "metadata": {
        "colab": {
          "base_uri": "https://localhost:8080/"
        },
        "id": "8-AKgzJCR8TW",
        "outputId": "b6aa8049-c097-4389-ee2f-315b59fc2883"
      },
      "execution_count": null,
      "outputs": [
        {
          "output_type": "execute_result",
          "data": {
            "text/plain": [
              "array([[ 0,  1,  2,  3],\n",
              "       [ 4,  5,  6,  7],\n",
              "       [ 8,  9, 10, 11],\n",
              "       [ 0,  1,  2,  3],\n",
              "       [ 4,  5,  6,  7],\n",
              "       [ 8,  9, 10, 11],\n",
              "       [12, 13, 14, 15],\n",
              "       [16, 17, 18, 19]])"
            ]
          },
          "metadata": {},
          "execution_count": 61
        }
      ]
    },
    {
      "cell_type": "code",
      "source": [
        "np.arange(132).reshape(11,12)"
      ],
      "metadata": {
        "colab": {
          "base_uri": "https://localhost:8080/"
        },
        "id": "jsMs03clR8WR",
        "outputId": "826b8353-54b6-4ea7-8396-2ff7e887a127"
      },
      "execution_count": null,
      "outputs": [
        {
          "output_type": "execute_result",
          "data": {
            "text/plain": [
              "array([[  0,   1,   2,   3,   4,   5,   6,   7,   8,   9,  10,  11],\n",
              "       [ 12,  13,  14,  15,  16,  17,  18,  19,  20,  21,  22,  23],\n",
              "       [ 24,  25,  26,  27,  28,  29,  30,  31,  32,  33,  34,  35],\n",
              "       [ 36,  37,  38,  39,  40,  41,  42,  43,  44,  45,  46,  47],\n",
              "       [ 48,  49,  50,  51,  52,  53,  54,  55,  56,  57,  58,  59],\n",
              "       [ 60,  61,  62,  63,  64,  65,  66,  67,  68,  69,  70,  71],\n",
              "       [ 72,  73,  74,  75,  76,  77,  78,  79,  80,  81,  82,  83],\n",
              "       [ 84,  85,  86,  87,  88,  89,  90,  91,  92,  93,  94,  95],\n",
              "       [ 96,  97,  98,  99, 100, 101, 102, 103, 104, 105, 106, 107],\n",
              "       [108, 109, 110, 111, 112, 113, 114, 115, 116, 117, 118, 119],\n",
              "       [120, 121, 122, 123, 124, 125, 126, 127, 128, 129, 130, 131]])"
            ]
          },
          "metadata": {},
          "execution_count": 62
        }
      ]
    },
    {
      "cell_type": "markdown",
      "source": [
        "if you have an array 'p', reshaping it as np.reshape(p,-1) will give a 1-D array\n"
      ],
      "metadata": {
        "id": "8tVRN-LUZoXS"
      }
    },
    {
      "cell_type": "code",
      "source": [
        "m=np.array([[1, 2, 3, 4, 5],\n",
        " [6, 7, 8, 9, 10],\n",
        " [11, 12, 13, 14, 15],\n",
        " [16, 17, 18, 19, 20]])\n",
        "\n",
        "# Expected output:\n",
        "#  [[1, 3]\n",
        "#  [5, 7]\n",
        "#  [9, 11]\n",
        "#  [13, 15]\n",
        "#  [17, 19]]"
      ],
      "metadata": {
        "id": "qSx6WfffR8Y9"
      },
      "execution_count": null,
      "outputs": []
    },
    {
      "cell_type": "code",
      "source": [
        "print(m[m%2 != 0].reshape(5, 2))"
      ],
      "metadata": {
        "colab": {
          "base_uri": "https://localhost:8080/"
        },
        "id": "aULkkUt5R8bx",
        "outputId": "afe99b3c-67e9-4e94-8252-7e421cc05cbb"
      },
      "execution_count": null,
      "outputs": [
        {
          "output_type": "stream",
          "name": "stdout",
          "text": [
            "[[ 1  3]\n",
            " [ 5  7]\n",
            " [ 9 11]\n",
            " [13 15]\n",
            " [17 19]]\n"
          ]
        }
      ]
    },
    {
      "cell_type": "code",
      "source": [
        "p=np.array([[1, 5],\n",
        " [3, 7],\n",
        " [4, 9]])\n",
        "\n",
        "np.reshape(p, (1, -1))# This will give a 2D array"
      ],
      "metadata": {
        "colab": {
          "base_uri": "https://localhost:8080/"
        },
        "id": "gE3MczC2R8eW",
        "outputId": "75b2319f-e765-4743-c1b0-62c11c95b094"
      },
      "execution_count": null,
      "outputs": [
        {
          "output_type": "execute_result",
          "data": {
            "text/plain": [
              "array([[1, 5, 3, 7, 4, 9]])"
            ]
          },
          "metadata": {},
          "execution_count": 79
        }
      ]
    },
    {
      "cell_type": "code",
      "source": [
        "# Trignometric functions\n",
        "np.pi"
      ],
      "metadata": {
        "colab": {
          "base_uri": "https://localhost:8080/"
        },
        "id": "XILsBF3ER8g0",
        "outputId": "ab290ad0-a11a-4746-fca9-4fe6a96be618"
      },
      "execution_count": null,
      "outputs": [
        {
          "output_type": "execute_result",
          "data": {
            "text/plain": [
              "3.141592653589793"
            ]
          },
          "metadata": {},
          "execution_count": 80
        }
      ]
    },
    {
      "cell_type": "code",
      "source": [
        "theta=np.linspace(0,np.pi,5)"
      ],
      "metadata": {
        "id": "xtfwov5qR8jn"
      },
      "execution_count": null,
      "outputs": []
    },
    {
      "cell_type": "code",
      "source": [
        "sine=np.sin(theta)\n",
        "sine"
      ],
      "metadata": {
        "colab": {
          "base_uri": "https://localhost:8080/"
        },
        "id": "oMFlBWnAR8mL",
        "outputId": "464fe7c1-314d-4e91-a3c8-bf69a092f70f"
      },
      "execution_count": null,
      "outputs": [
        {
          "output_type": "execute_result",
          "data": {
            "text/plain": [
              "array([0.00000000e+00, 7.07106781e-01, 1.00000000e+00, 7.07106781e-01,\n",
              "       1.22464680e-16])"
            ]
          },
          "metadata": {},
          "execution_count": 83
        }
      ]
    },
    {
      "cell_type": "code",
      "source": [
        "cosine=np.cos(theta)\n",
        "cosine"
      ],
      "metadata": {
        "colab": {
          "base_uri": "https://localhost:8080/"
        },
        "id": "guSA438ER8o2",
        "outputId": "1d3362f5-cd54-4446-da66-203519e3abc3"
      },
      "execution_count": null,
      "outputs": [
        {
          "output_type": "execute_result",
          "data": {
            "text/plain": [
              "array([ 1.00000000e+00,  7.07106781e-01,  6.12323400e-17, -7.07106781e-01,\n",
              "       -1.00000000e+00])"
            ]
          },
          "metadata": {},
          "execution_count": 84
        }
      ]
    },
    {
      "cell_type": "code",
      "source": [
        "# Exponential and Logarithmic function\n",
        "x=np.array([1,2,3,10])\n",
        "np.exp(x)\n"
      ],
      "metadata": {
        "colab": {
          "base_uri": "https://localhost:8080/"
        },
        "id": "uPNvIc4dR8rE",
        "outputId": "b94f6bb8-df7f-4ac3-a92a-80c05ea364d3"
      },
      "execution_count": null,
      "outputs": [
        {
          "output_type": "execute_result",
          "data": {
            "text/plain": [
              "array([2.71828183e+00, 7.38905610e+00, 2.00855369e+01, 2.20264658e+04])"
            ]
          },
          "metadata": {},
          "execution_count": 85
        }
      ]
    },
    {
      "cell_type": "code",
      "source": [
        "# 2^1,2^2,2^3,2^10\n",
        "\n",
        "np.exp2(theta)"
      ],
      "metadata": {
        "colab": {
          "base_uri": "https://localhost:8080/"
        },
        "id": "wBjdzr3qhDsS",
        "outputId": "946312b1-23f7-47b2-e959-078406420e45"
      },
      "execution_count": null,
      "outputs": [
        {
          "output_type": "execute_result",
          "data": {
            "text/plain": [
              "array([1.        , 1.72356793, 2.97068642, 5.12017986, 8.82497783])"
            ]
          },
          "metadata": {},
          "execution_count": 86
        }
      ]
    },
    {
      "cell_type": "code",
      "source": [
        "np.power(x,3)"
      ],
      "metadata": {
        "colab": {
          "base_uri": "https://localhost:8080/"
        },
        "id": "YKii5laghDwe",
        "outputId": "7a2a6843-2060-481e-9566-1b367f64240a"
      },
      "execution_count": null,
      "outputs": [
        {
          "output_type": "execute_result",
          "data": {
            "text/plain": [
              "array([   1,    8,   27, 1000])"
            ]
          },
          "metadata": {},
          "execution_count": 87
        }
      ]
    },
    {
      "cell_type": "code",
      "source": [
        "np.log(x)"
      ],
      "metadata": {
        "colab": {
          "base_uri": "https://localhost:8080/"
        },
        "id": "TWGecHzVhDzw",
        "outputId": "febd144d-ea54-44ab-a0d9-caee2e122444"
      },
      "execution_count": null,
      "outputs": [
        {
          "output_type": "execute_result",
          "data": {
            "text/plain": [
              "array([0.        , 0.69314718, 1.09861229, 2.30258509])"
            ]
          },
          "metadata": {},
          "execution_count": 88
        }
      ]
    },
    {
      "cell_type": "code",
      "source": [
        "np.log2(x)"
      ],
      "metadata": {
        "colab": {
          "base_uri": "https://localhost:8080/"
        },
        "id": "9gdVu6d9hD3Q",
        "outputId": "18e008fa-ca59-43f4-dbd5-c2af092beeb8"
      },
      "execution_count": null,
      "outputs": [
        {
          "output_type": "execute_result",
          "data": {
            "text/plain": [
              "array([0.        , 1.        , 1.5849625 , 3.32192809])"
            ]
          },
          "metadata": {},
          "execution_count": 89
        }
      ]
    },
    {
      "cell_type": "code",
      "source": [
        "np.log10(x)"
      ],
      "metadata": {
        "colab": {
          "base_uri": "https://localhost:8080/"
        },
        "id": "ldaIxEKShD5S",
        "outputId": "9466978d-9317-4b28-d3f0-93e410a66ad7"
      },
      "execution_count": null,
      "outputs": [
        {
          "output_type": "execute_result",
          "data": {
            "text/plain": [
              "array([0.        , 0.30103   , 0.47712125, 1.        ])"
            ]
          },
          "metadata": {},
          "execution_count": 90
        }
      ]
    },
    {
      "cell_type": "code",
      "source": [
        "# Important concept\n",
        "x=np.arange(5)\n",
        "y=np.zeros(10)\n",
        "print(x)\n",
        "print(y)\n"
      ],
      "metadata": {
        "colab": {
          "base_uri": "https://localhost:8080/"
        },
        "id": "B5tIs2gfhD8C",
        "outputId": "a7bada7e-4676-4141-be00-54b3a68f4d40"
      },
      "execution_count": null,
      "outputs": [
        {
          "output_type": "stream",
          "name": "stdout",
          "text": [
            "[0 1 2 3 4]\n",
            "[0. 0. 0. 0. 0. 0. 0. 0. 0. 0.]\n"
          ]
        }
      ]
    },
    {
      "cell_type": "code",
      "source": [
        "np.power(2,x,out=y[::2])"
      ],
      "metadata": {
        "colab": {
          "base_uri": "https://localhost:8080/"
        },
        "id": "Meoi1PkbBtnA",
        "outputId": "51525176-734e-4e37-807e-d088d2fccc89"
      },
      "execution_count": null,
      "outputs": [
        {
          "output_type": "execute_result",
          "data": {
            "text/plain": [
              "array([ 1.,  2.,  4.,  8., 16.])"
            ]
          },
          "metadata": {},
          "execution_count": 4
        }
      ]
    },
    {
      "cell_type": "code",
      "source": [
        "y"
      ],
      "metadata": {
        "colab": {
          "base_uri": "https://localhost:8080/"
        },
        "id": "UwcezztiBtqP",
        "outputId": "bd4aa8ee-6f06-458f-9ed0-c6825992dbf8"
      },
      "execution_count": null,
      "outputs": [
        {
          "output_type": "execute_result",
          "data": {
            "text/plain": [
              "array([ 1.,  0.,  2.,  0.,  4.,  0.,  8.,  0., 16.,  0.])"
            ]
          },
          "metadata": {},
          "execution_count": 5
        }
      ]
    },
    {
      "cell_type": "code",
      "source": [
        "# Aggregate function\n",
        "x=np.arange(1,10)"
      ],
      "metadata": {
        "id": "usavfCkcBttW"
      },
      "execution_count": null,
      "outputs": []
    },
    {
      "cell_type": "code",
      "source": [
        "sum(x)"
      ],
      "metadata": {
        "colab": {
          "base_uri": "https://localhost:8080/"
        },
        "id": "YMta7OGJBtwN",
        "outputId": "99f88ba0-3250-4991-8b06-f00f0add0105"
      },
      "execution_count": null,
      "outputs": [
        {
          "output_type": "execute_result",
          "data": {
            "text/plain": [
              "45"
            ]
          },
          "metadata": {},
          "execution_count": 7
        }
      ]
    },
    {
      "cell_type": "code",
      "source": [
        "np.add.reduce(x)"
      ],
      "metadata": {
        "colab": {
          "base_uri": "https://localhost:8080/"
        },
        "id": "pbCbI6NaBtzE",
        "outputId": "9ccbfc2f-8da4-4a21-c1b2-c70ccb656d10"
      },
      "execution_count": null,
      "outputs": [
        {
          "output_type": "execute_result",
          "data": {
            "text/plain": [
              "45"
            ]
          },
          "metadata": {},
          "execution_count": 9
        }
      ]
    },
    {
      "cell_type": "code",
      "source": [
        "np.add.accumulate(x)"
      ],
      "metadata": {
        "colab": {
          "base_uri": "https://localhost:8080/"
        },
        "id": "Kb4R11ROBt1V",
        "outputId": "5ef66faf-4acd-4ccc-8897-fd513f54620c"
      },
      "execution_count": null,
      "outputs": [
        {
          "output_type": "execute_result",
          "data": {
            "text/plain": [
              "array([ 1,  3,  6, 10, 15, 21, 28, 36, 45])"
            ]
          },
          "metadata": {},
          "execution_count": 10
        }
      ]
    },
    {
      "cell_type": "code",
      "source": [
        "np.multiply.reduce(x)"
      ],
      "metadata": {
        "colab": {
          "base_uri": "https://localhost:8080/"
        },
        "id": "ZEj1eBa1Bt3t",
        "outputId": "96d74d2c-faa4-4a2d-d59d-5de783e754f5"
      },
      "execution_count": null,
      "outputs": [
        {
          "output_type": "execute_result",
          "data": {
            "text/plain": [
              "362880"
            ]
          },
          "metadata": {},
          "execution_count": 11
        }
      ]
    },
    {
      "cell_type": "code",
      "source": [
        "np.multiply.accumulate(x)"
      ],
      "metadata": {
        "colab": {
          "base_uri": "https://localhost:8080/"
        },
        "id": "44BjB7V1Bt6W",
        "outputId": "88ec0d8e-675a-41dc-d927-5e8b983cc962"
      },
      "execution_count": null,
      "outputs": [
        {
          "output_type": "execute_result",
          "data": {
            "text/plain": [
              "array([     1,      2,      6,     24,    120,    720,   5040,  40320,\n",
              "       362880])"
            ]
          },
          "metadata": {},
          "execution_count": 12
        }
      ]
    },
    {
      "cell_type": "markdown",
      "source": [
        "<span style=\"color:red; font-size:small; font-weight:bold;\">Linear Algebra Functions in NumPy</span>\n"
      ],
      "metadata": {
        "id": "m0SBNmpaG9K0"
      }
    },
    {
      "cell_type": "code",
      "source": [
        "mat=np.array([[6,1,1],[4,-2,5],[2,8,7]])\n",
        "mat"
      ],
      "metadata": {
        "colab": {
          "base_uri": "https://localhost:8080/"
        },
        "id": "_oqyuyYHBt9t",
        "outputId": "6899d05d-6670-46ae-dec8-d7dda276b306"
      },
      "execution_count": null,
      "outputs": [
        {
          "output_type": "execute_result",
          "data": {
            "text/plain": [
              "array([[ 6,  1,  1],\n",
              "       [ 4, -2,  5],\n",
              "       [ 2,  8,  7]])"
            ]
          },
          "metadata": {},
          "execution_count": 30
        }
      ]
    },
    {
      "cell_type": "code",
      "source": [
        "np.linalg.matrix_rank(mat)"
      ],
      "metadata": {
        "colab": {
          "base_uri": "https://localhost:8080/"
        },
        "id": "4uPOSKqvD1dj",
        "outputId": "1727b668-e867-4c8a-b84b-783cf1e81467"
      },
      "execution_count": null,
      "outputs": [
        {
          "output_type": "execute_result",
          "data": {
            "text/plain": [
              "3"
            ]
          },
          "metadata": {},
          "execution_count": 23
        }
      ]
    },
    {
      "cell_type": "code",
      "source": [
        "mat_inv=np.linalg.inv(mat)\n",
        "mat_inv"
      ],
      "metadata": {
        "colab": {
          "base_uri": "https://localhost:8080/"
        },
        "id": "a6m1ymlFD1gz",
        "outputId": "549b1d11-54da-42a8-ca0b-36306b9c1e38"
      },
      "execution_count": null,
      "outputs": [
        {
          "output_type": "execute_result",
          "data": {
            "text/plain": [
              "array([[ 0.17647059, -0.00326797, -0.02287582],\n",
              "       [ 0.05882353, -0.13071895,  0.08496732],\n",
              "       [-0.11764706,  0.1503268 ,  0.05228758]])"
            ]
          },
          "metadata": {},
          "execution_count": 24
        }
      ]
    },
    {
      "cell_type": "code",
      "source": [
        "np.matmul(mat,mat_inv)"
      ],
      "metadata": {
        "colab": {
          "base_uri": "https://localhost:8080/"
        },
        "id": "R4SM92yAD1jf",
        "outputId": "3d588c13-616b-48a0-b9fe-d5591570164d"
      },
      "execution_count": null,
      "outputs": [
        {
          "output_type": "execute_result",
          "data": {
            "text/plain": [
              "array([[ 1.00000000e+00,  0.00000000e+00,  2.77555756e-17],\n",
              "       [-1.38777878e-17,  1.00000000e+00,  1.38777878e-17],\n",
              "       [-4.16333634e-17,  1.38777878e-16,  1.00000000e+00]])"
            ]
          },
          "metadata": {},
          "execution_count": 27
        }
      ]
    },
    {
      "cell_type": "code",
      "source": [
        "mat*mat_inv # Element wise multiplication"
      ],
      "metadata": {
        "colab": {
          "base_uri": "https://localhost:8080/"
        },
        "id": "AGXJNwDZD1mc",
        "outputId": "50518bc8-455e-4686-e4e2-e692df12ba8d"
      },
      "execution_count": null,
      "outputs": [
        {
          "output_type": "execute_result",
          "data": {
            "text/plain": [
              "array([[ 1.05882353, -0.00326797, -0.02287582],\n",
              "       [ 0.23529412,  0.26143791,  0.4248366 ],\n",
              "       [-0.23529412,  1.20261438,  0.36601307]])"
            ]
          },
          "metadata": {},
          "execution_count": 31
        }
      ]
    },
    {
      "cell_type": "code",
      "source": [
        "np.linalg.matrix_power(mat,3)"
      ],
      "metadata": {
        "colab": {
          "base_uri": "https://localhost:8080/"
        },
        "id": "EyBApdmgD1p5",
        "outputId": "4661aef4-b3e6-48c4-8952-65cc78af0c6e"
      },
      "execution_count": null,
      "outputs": [
        {
          "output_type": "execute_result",
          "data": {
            "text/plain": [
              "array([[336, 162, 228],\n",
              "       [406, 162, 469],\n",
              "       [698, 702, 905]])"
            ]
          },
          "metadata": {},
          "execution_count": 32
        }
      ]
    },
    {
      "cell_type": "code",
      "source": [
        "import numpy as np\n",
        "np.arange(1,65).reshape(8,8)"
      ],
      "metadata": {
        "id": "QDEeuKVWhD-2",
        "colab": {
          "base_uri": "https://localhost:8080/"
        },
        "outputId": "415f893e-9885-4e2f-f2a5-c9f11d3fabc8"
      },
      "execution_count": null,
      "outputs": [
        {
          "output_type": "execute_result",
          "data": {
            "text/plain": [
              "array([[ 1,  2,  3,  4,  5,  6,  7,  8],\n",
              "       [ 9, 10, 11, 12, 13, 14, 15, 16],\n",
              "       [17, 18, 19, 20, 21, 22, 23, 24],\n",
              "       [25, 26, 27, 28, 29, 30, 31, 32],\n",
              "       [33, 34, 35, 36, 37, 38, 39, 40],\n",
              "       [41, 42, 43, 44, 45, 46, 47, 48],\n",
              "       [49, 50, 51, 52, 53, 54, 55, 56],\n",
              "       [57, 58, 59, 60, 61, 62, 63, 64]])"
            ]
          },
          "metadata": {},
          "execution_count": 2
        }
      ]
    },
    {
      "cell_type": "code",
      "source": [],
      "metadata": {
        "id": "3VVJvv4TclpN"
      },
      "execution_count": null,
      "outputs": []
    },
    {
      "cell_type": "code",
      "source": [],
      "metadata": {
        "id": "L5ny71i4clyf"
      },
      "execution_count": null,
      "outputs": []
    },
    {
      "cell_type": "code",
      "source": [],
      "metadata": {
        "id": "UqN8ere5cl11"
      },
      "execution_count": null,
      "outputs": []
    },
    {
      "cell_type": "code",
      "source": [],
      "metadata": {
        "id": "MjKn8ubGcl5w"
      },
      "execution_count": null,
      "outputs": []
    },
    {
      "cell_type": "code",
      "source": [],
      "metadata": {
        "id": "69wc3vAwcl9P"
      },
      "execution_count": null,
      "outputs": []
    },
    {
      "cell_type": "code",
      "source": [],
      "metadata": {
        "id": "yNI3NAIAhEA3"
      },
      "execution_count": null,
      "outputs": []
    },
    {
      "cell_type": "code",
      "source": [],
      "metadata": {
        "id": "wylRn-OrhEEe"
      },
      "execution_count": null,
      "outputs": []
    },
    {
      "cell_type": "code",
      "source": [],
      "metadata": {
        "id": "i8YR7DRvR8tp"
      },
      "execution_count": null,
      "outputs": []
    },
    {
      "cell_type": "code",
      "source": [],
      "metadata": {
        "id": "Ne5-urFtR8xH"
      },
      "execution_count": null,
      "outputs": []
    },
    {
      "cell_type": "code",
      "source": [],
      "metadata": {
        "id": "zXVxGydU5Hd4"
      },
      "execution_count": null,
      "outputs": []
    },
    {
      "cell_type": "code",
      "source": [],
      "metadata": {
        "id": "XkrzRIni5HhB"
      },
      "execution_count": null,
      "outputs": []
    },
    {
      "cell_type": "code",
      "source": [],
      "metadata": {
        "id": "AsW84VjP5HkY"
      },
      "execution_count": null,
      "outputs": []
    }
  ]
}